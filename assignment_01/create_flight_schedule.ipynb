{
 "cells": [
  {
   "cell_type": "code",
   "execution_count": 344,
   "metadata": {
    "collapsed": false
   },
   "outputs": [],
   "source": [
    "#csv_header = 'tail_number,origin,destination,departure_time,arrival_time' \n",
    "#file_name = 'flight_schedule.csv'\n",
    "\n",
    "#f = open('flight_schedule.csv','wt').write(csv_header)\n"
   ]
  },
  {
   "cell_type": "code",
   "execution_count": 345,
   "metadata": {
    "collapsed": true
   },
   "outputs": [],
   "source": [
    "csv_header = 'tail_number,origin,destination,departure_time,arrival_time' \n",
    "file_name = 'flight_schedule.csv'\n",
    "\n",
    "def print_flight_schedule(fn, csv_hdr, flt_sched):\n",
    "    with open(fn,'wt') as f:\n",
    "        print(csv_hdr, file=f)\n",
    "        for s in flt_sched:\n",
    "            print(','.join(s), file=f)"
   ]
  },
  {
   "cell_type": "code",
   "execution_count": 69,
   "metadata": {
    "collapsed": true
   },
   "outputs": [],
   "source": [
    "flight_times = [['AUS','DAL',50],\n",
    "                ['DAL','HOU',65],\n",
    "                ['AUS','HOU',45]]"
   ]
  },
  {
   "cell_type": "code",
   "execution_count": 70,
   "metadata": {
    "collapsed": false
   },
   "outputs": [],
   "source": [
    "def fly_time(origin,dest):\n",
    "    fly_time =0\n",
    "    for lst in flight_times:\n",
    "        if (lst[0] == origin and lst[1]==dest) or (lst[1] == origin and lst[0]==dest):\n",
    "            fly_time = lst[2]\n",
    "            break;\n",
    "    return fly_time"
   ]
  },
  {
   "cell_type": "code",
   "execution_count": 71,
   "metadata": {
    "collapsed": false
   },
   "outputs": [],
   "source": [
    "def MinutesSinceMidnight(time):\n",
    "    return (time//100)*60 + (time%100)\n",
    "\n",
    "def MilitaryTime(time):\n",
    "    return (time//60)*100 + time%60"
   ]
  },
  {
   "cell_type": "code",
   "execution_count": 72,
   "metadata": {
    "collapsed": true
   },
   "outputs": [],
   "source": [
    "def CalculateArrivalTime(origin,destination,departureTime):\n",
    "    return MilitaryTime(fly_time(origin,destination)+MinutesSinceMidnight(departureTime))"
   ]
  },
  {
   "cell_type": "code",
   "execution_count": 73,
   "metadata": {
    "collapsed": false
   },
   "outputs": [],
   "source": [
    "def CalculateGroundTime(origin):\n",
    "    if origin == 'AUS':return 25\n",
    "    elif origin == 'DAL':return 30\n",
    "    elif origin == 'HOU':return 35\n",
    "\n",
    "def CalculateDepartureTime(origin,arrivalTime):\n",
    "    return MilitaryTime(MinutesSinceMidnight(arrivalTime) + CalculateGroundTime(origin))"
   ]
  },
  {
   "cell_type": "code",
   "execution_count": 268,
   "metadata": {
    "collapsed": false
   },
   "outputs": [],
   "source": [
    "class Airport_Status:\n",
    "    def __init__(self,airportName,noOfGates,gateStatus):\n",
    "        self.airportName = airportName\n",
    "        self.noOfGates = noOfGates\n",
    "        self.gateStatus = gateStatus\n",
    "\n",
    "\n",
    "class Flight_Status:\n",
    "    def __init__(self,tailNumber,currentAirport,time):\n",
    "        self.tailNumber = tailNumber\n",
    "        self.currentAirport = currentAirport\n",
    "        self.time = time\n"
   ]
  },
  {
   "cell_type": "code",
   "execution_count": 380,
   "metadata": {
    "collapsed": false
   },
   "outputs": [],
   "source": [
    "def check_Availability(origin,destination,time,Airports):\n",
    "    time = int(time)\n",
    "    i = 1\n",
    "    value = False\n",
    "    time_available = MilitaryTime(fly_time(origin,destination) + MinutesSinceMidnight(time))\n",
    "    #print(time_available)\n",
    "    for port in Airports:\n",
    "        if port.airportName == destination:\n",
    "            for status in port.gateStatus:\n",
    "                if int(status[0]) <= time_available:\n",
    "                    #return (True,i)\n",
    "                    value = True\n",
    "                    break\n",
    "                else:\n",
    "                    i +=1\n",
    "                    value= False\n",
    "    return value,i,str(time_available).rjust(4,'0')\n"
   ]
  },
  {
   "cell_type": "code",
   "execution_count": 381,
   "metadata": {
    "collapsed": false
   },
   "outputs": [
    {
     "data": {
      "text/plain": [
       "(False, 2, '0650')"
      ]
     },
     "execution_count": 381,
     "metadata": {},
     "output_type": "execute_result"
    }
   ],
   "source": [
    "check_Availability('DAL','AUS','0600',Airports)"
   ]
  },
  {
   "cell_type": "code",
   "execution_count": 406,
   "metadata": {
    "collapsed": true
   },
   "outputs": [],
   "source": [
    "def update_Airport_Status(airport, i, fly_time):\n",
    "    \n",
    "    airport.gateStatus[i-1][0] = MilitaryTime(MinutesSinceMidnight(int(fly_time)) + \\\n",
    "                                    CalculateGroundTime(airport.airportName))\n",
    "    #print(str(airport.gateStatus[i-1][0]).rjust(4,'0'))\n",
    "    airport.gateStatus[i-1][0] = str(airport.gateStatus[i-1][0]).rjust(4,'0')\n",
    "\n",
    "def update_flight_status(fl,airportName,fly_time):\n",
    "    fl.currentAirport = airportName\n",
    "    fl.time = str(MilitaryTime(MinutesSinceMidnight(int(fly_time)) + \\\n",
    "                                    CalculateGroundTime(airportName))).rjust(4,'0')\n",
    "    #print(fl.time)"
   ]
  },
  {
   "cell_type": "code",
   "execution_count": 432,
   "metadata": {
    "collapsed": false
   },
   "outputs": [],
   "source": [
    "flt_schedule = list()\n",
    "\n",
    "AUS = Airport_Status('AUS',1,[['0600','2200']])\n",
    "DAL = Airport_Status('DAL',2,[['0600','2200'],['0600','2200']])\n",
    "HOU = Airport_Status('HOU',3,[['0600','2200'],['0600','2200'],['0600','2200']])\n",
    "\n",
    "Airports = [AUS,DAL,HOU]\n",
    "\n",
    "t1 = Flight_Status('T1','AUS','0600')\n",
    "t2 = Flight_Status('T2','DAL','0600')\n",
    "t3 = Flight_Status('T3','DAL','0600')\n",
    "t4 = Flight_Status('T4','HOU','0600')\n",
    "t5 = Flight_Status('T5','HOU','0600')\n",
    "t6 = Flight_Status('T6','HOU','0600')\n",
    "\n",
    "Flights = [t1,t2,t3,t4,t5,t6]\n",
    "\n",
    "\n",
    "def create_schedule(Flights,Airports):\n",
    "    for fl in Flights:\n",
    "        fs = list()\n",
    "        for airport in Airports:\n",
    "            #print(airport.airportName)\n",
    "            if fl.currentAirport != airport.airportName:\n",
    "                (value , i, fly_time) = check_Availability(fl.currentAirport,airport.airportName,fl.time,Airports)\n",
    "                #print(airport.gateStatus,airport.airportName)\n",
    "                #print(value , i, fly_time)\n",
    "                if value is True:\n",
    "                    fs.extend((fl.tailNumber,fl.currentAirport,airport.airportName,fl.time,fly_time))\n",
    "                    #print(airport.gateStatus,airport.airportName)\n",
    "                    update_Airport_Status(airport,i,fly_time)\n",
    "                    #print(airport.gateStatus,airport.airportName)\n",
    "                    update_flight_status(fl,airport.airportName,fly_time)\n",
    "                    #print(fl.tailNumber,fl.currentAirport,fl.time)\n",
    "                    break\n",
    "        #print(fs)\n",
    "        if len(fs)!=0:flt_schedule.append(fs)\n",
    "    print(flt_schedule)\n",
    "    print_flight_schedule(file_name, csv_header, flt_schedule)\n"
   ]
  },
  {
   "cell_type": "code",
   "execution_count": 433,
   "metadata": {
    "collapsed": false
   },
   "outputs": [
    {
     "name": "stdout",
     "output_type": "stream",
     "text": [
      "[['T1', 'AUS', 'DAL', '0600', '0650'], ['T2', 'DAL', 'AUS', '0600', '0650'], ['T3', 'DAL', 'HOU', '0600', '0705'], ['T4', 'HOU', 'DAL', '0600', '0705']]\n"
     ]
    }
   ],
   "source": [
    "create_schedule(Flights,Airports)"
   ]
  },
  {
   "cell_type": "code",
   "execution_count": null,
   "metadata": {
    "collapsed": false
   },
   "outputs": [],
   "source": []
  },
  {
   "cell_type": "code",
   "execution_count": null,
   "metadata": {
    "collapsed": true
   },
   "outputs": [],
   "source": []
  }
 ],
 "metadata": {
  "kernelspec": {
   "display_name": "Python 3",
   "language": "python",
   "name": "python3"
  },
  "language_info": {
   "codemirror_mode": {
    "name": "ipython",
    "version": 3
   },
   "file_extension": ".py",
   "mimetype": "text/x-python",
   "name": "python",
   "nbconvert_exporter": "python",
   "pygments_lexer": "ipython3",
   "version": "3.6.0"
  }
 },
 "nbformat": 4,
 "nbformat_minor": 2
}
