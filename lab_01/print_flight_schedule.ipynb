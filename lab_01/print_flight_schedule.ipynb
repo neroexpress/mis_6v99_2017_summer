{
 "cells": [
  {
   "cell_type": "code",
   "execution_count": 25,
   "metadata": {
    "collapsed": true
   },
   "outputs": [],
   "source": [
    "flight_schedule = [['T1', 'AUS', 'DAL', '0600', '0650'],\n",
    "                   ['T2', 'DAL', 'HOU', '0600', '0705'],\n",
    "                   ['T3', 'HOU', 'DAL', '0600', '0705'],\n",
    "                   ['T4', 'DAL', 'AUS', '0600', '0650'],\n",
    "                   ['T5', 'HOU', 'AUS', '0600', '0645'],\n",
    "                   ['T6', 'AUS', 'HOU', '0600', '0645']]\n",
    "\n",
    "csv_header = 'tail_number,origin,destination,departure_time,arrival_time' \n",
    "file_name = 'flight_schedule.csv'\n",
    "\n",
    "def print_flight_schedule(fn, csv_hdr, flt_sched):\n",
    "    with open(fn,'wt') as f:\n",
    "        print(csv_hdr, file=f)\n",
    "        for s in flt_sched:\n",
    "            print(','.join(s), file=f)\n",
    "\n",
    "print_flight_schedule(file_name, csv_header, flight_schedule)"
   ]
  },
  {
   "cell_type": "code",
   "execution_count": null,
   "metadata": {
    "collapsed": true
   },
   "outputs": [],
   "source": []
  }
 ],
 "metadata": {
  "kernelspec": {
   "display_name": "Python 3",
   "language": "python",
   "name": "python3"
  },
  "language_info": {
   "codemirror_mode": {
    "name": "ipython",
    "version": 3
   },
   "file_extension": ".py",
   "mimetype": "text/x-python",
   "name": "python",
   "nbconvert_exporter": "python",
   "pygments_lexer": "ipython3",
   "version": "3.6.0"
  }
 },
 "nbformat": 4,
 "nbformat_minor": 2
}
